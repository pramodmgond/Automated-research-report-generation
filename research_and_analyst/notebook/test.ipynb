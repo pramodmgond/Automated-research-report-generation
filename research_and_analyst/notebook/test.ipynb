{
 "cells": [
  {
   "cell_type": "code",
   "execution_count": 1,
   "id": "077a2ae9",
   "metadata": {},
   "outputs": [],
   "source": [
    "# utils/config_loader.py\n",
    "from pathlib import Path\n",
    "import os\n",
    "import yaml\n",
    "\n",
    "def _project_root() -> Path:\n",
    "    # .../utils/config_loader.py -> parents[1] == project root\n",
    "    return Path(__file__).resolve().parents[1]"
   ]
  },
  {
   "cell_type": "code",
   "execution_count": 3,
   "id": "469efbaa",
   "metadata": {},
   "outputs": [
    {
     "name": "stdout",
     "output_type": "stream",
     "text": [
      "C:\\Users\\pramod\\Desktop\\KRISH_ACADEMY\\LLMOPS_Projects\\automated-research-report-generation\\research_and_analyst\n"
     ]
    }
   ],
   "source": [
    "from utils.config_loader import _project_root\n",
    "\n",
    "print(_project_root())\n"
   ]
  },
  {
   "cell_type": "code",
   "execution_count": null,
   "id": "30aa1b69",
   "metadata": {},
   "outputs": [],
   "source": []
  }
 ],
 "metadata": {
  "kernelspec": {
   "display_name": "automated-research-report-generation",
   "language": "python",
   "name": "python3"
  },
  "language_info": {
   "codemirror_mode": {
    "name": "ipython",
    "version": 3
   },
   "file_extension": ".py",
   "mimetype": "text/x-python",
   "name": "python",
   "nbconvert_exporter": "python",
   "pygments_lexer": "ipython3",
   "version": "3.11.13"
  }
 },
 "nbformat": 4,
 "nbformat_minor": 5
}
